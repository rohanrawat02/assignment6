{
 "cells": [
  {
   "cell_type": "code",
   "execution_count": 1,
   "id": "c373ad14-3e4b-431b-9c17-95e2101f1039",
   "metadata": {},
   "outputs": [
    {
     "data": {
      "text/plain": [
       "'OOP is a programming paradigm that focuses on organizing code into reusable and self-contained units called classes, \\nwhich define the blueprint for creating objects.\\n\\nClass:\\nA class is a blueprint or template that defines the structure and behavior of objects. \\nIt serves as a blueprint for creating objects of a particular type. In a class, you can define attributes (data members) \\nand methods (functions) that represent the characteristics and actions that objects of that class can have.\\n\\nObject:\\nAn object is an instance of a class. It is a concrete realization of the blueprint defined by a class. \\nObjects encapsulate data (attributes) and behaviors (methods) related to a specific entity or concept.'"
      ]
     },
     "execution_count": 1,
     "metadata": {},
     "output_type": "execute_result"
    }
   ],
   "source": [
    "\"\"\" ques1 OOP is a programming paradigm that focuses on organizing code into reusable and self-contained units called classes, \n",
    "which define the blueprint for creating objects.\n",
    "\n",
    "Class:\n",
    "A class is a blueprint or template that defines the structure and behavior of objects. \n",
    "It serves as a blueprint for creating objects of a particular type. In a class, you can define attributes (data members) \n",
    "and methods (functions) that represent the characteristics and actions that objects of that class can have.\n",
    "\n",
    "Object:\n",
    "An object is an instance of a class. It is a concrete realization of the blueprint defined by a class. \n",
    "Objects encapsulate data (attributes) and behaviors (methods) related to a specific entity or concept.\"\"\""
   ]
  },
  {
   "cell_type": "code",
   "execution_count": 6,
   "id": "fd841217-9408-4f7d-82c0-4e91f79b9092",
   "metadata": {},
   "outputs": [
    {
     "ename": "IndentationError",
     "evalue": "expected an indented block after class definition on line 1 (3531595231.py, line 2)",
     "output_type": "error",
     "traceback": [
      "\u001b[0;36m  Cell \u001b[0;32mIn[6], line 2\u001b[0;36m\u001b[0m\n\u001b[0;31m    def car1  __init__(self, make, model, year):\u001b[0m\n\u001b[0m    ^\u001b[0m\n\u001b[0;31mIndentationError\u001b[0m\u001b[0;31m:\u001b[0m expected an indented block after class definition on line 1\n"
     ]
    }
   ],
   "source": [
    "    class Car:\n",
    "    def   __init__(self, make, model, year):\n",
    "        self.make = make\n",
    "        self.model = model\n",
    "        self.year = year\n",
    "        self.is_running = False\n",
    "    \n",
    "    def start_engine(self):\n",
    "        if not self.is_running:\n",
    "            self.is_running = True\n",
    "            print(f\"{self.year} {self.make} {self.model}'s engine is now running.\")\n",
    "        else:\n",
    "            print(\"Engine is already running.\")\n",
    "\n",
    "    def stop_engine(self):\n",
    "        if self.is_running:\n",
    "            self.is_running = False\n",
    "            print(f\"{self.year} {self.make} {self.model}'s engine has been stopped.\")\n",
    "        else:\n",
    "            print(\"Engine is already stopped.\")\n"
   ]
  },
  {
   "cell_type": "code",
   "execution_count": 1,
   "id": "40e6909a-0ebd-4667-b4ae-b0911a0a1fa2",
   "metadata": {},
   "outputs": [
    {
     "data": {
      "text/plain": [
       "'The four pillars of Object-Oriented Programming (OOP) are:\\n\\n1. **Encapsulation**: This refers to the bundling of data (attributes) and methods (functions) that operate on \\nthe data into a single unit called a class. \\nEncapsulation helps in controlling access to the data and methods, ensuring that the internal details of an object are hidden\\nfrom the outside world, and interactions occur through well-defined interfaces.\\n\\n2. **Abstraction**: Abstraction involves the creation of simplified representations of real-world objects and their behaviors.\\nIt allows you to focus on the essential properties and functionalities of an object while ignoring the unnecessary details. \\nAbstraction helps in managing complexity and making code more maintainable.\\n\\n3. **Inheritance**: Inheritance enables a class (subclass or derived class) to inherit\\nattributes and methods from another class (superclass or base class). This promotes code reusability and \\nhierarchy in class relationships. Subclasses can extend and specialize the behavior of their parent classes, making it\\neasier to model real-world relationships in code.\\n\\n4. **Polymorphism**: Polymorphism allows objects of different classes to be treated as objects of a common superclass.\\nThis concept enables you to write code that can work with objects of various types without needing to know their specific\\nclasses. Polymorphism is often achieved through method overriding (changing the behavior of a method in a subclass) and \\nmethod overloading (defining multiple methods with the same name but different parameter lists).\\n\\nThese four pillars form the foundation of object-oriented programming paradigms, enabling developers to create modular,\\nreusable, and well-structured software systems.'"
      ]
     },
     "execution_count": 1,
     "metadata": {},
     "output_type": "execute_result"
    }
   ],
   "source": [
    "\"\"\"The four pillars of Object-Oriented Programming (OOP) are:\n",
    "\n",
    "1. **Encapsulation**: This refers to the bundling of data (attributes) and methods (functions) that operate on \n",
    "the data into a single unit called a class. \n",
    "Encapsulation helps in controlling access to the data and methods, ensuring that the internal details of an object are hidden\n",
    "from the outside world, and interactions occur through well-defined interfaces.\n",
    "\n",
    "2. **Abstraction**: Abstraction involves the creation of simplified representations of real-world objects and their behaviors.\n",
    "It allows you to focus on the essential properties and functionalities of an object while ignoring the unnecessary details. \n",
    "Abstraction helps in managing complexity and making code more maintainable.\n",
    "\n",
    "3. **Inheritance**: Inheritance enables a class (subclass or derived class) to inherit\n",
    "attributes and methods from another class (superclass or base class). This promotes code reusability and \n",
    "hierarchy in class relationships. Subclasses can extend and specialize the behavior of their parent classes, making it\n",
    "easier to model real-world relationships in code.\n",
    "\n",
    "4. **Polymorphism**: Polymorphism allows objects of different classes to be treated as objects of a common superclass.\n",
    "This concept enables you to write code that can work with objects of various types without needing to know their specific\n",
    "classes. Polymorphism is often achieved through method overriding (changing the behavior of a method in a subclass) and \n",
    "method overloading (defining multiple methods with the same name but different parameter lists).\n",
    "\n",
    "These four pillars form the foundation of object-oriented programming paradigms, enabling developers to create modular,\n",
    "reusable, and well-structured software systems.\"\"\"\n"
   ]
  },
  {
   "cell_type": "code",
   "execution_count": 2,
   "id": "c6c062d6-3f98-4dec-a338-a03000d25ffe",
   "metadata": {},
   "outputs": [
    {
     "data": {
      "text/plain": [
       "'The `__init__()` function in Python is a special method (also known as a constructor) that is used to initialize \\nthe attributes of an object when it is created from a class. \\nIt is automatically called when an instance of the class is created and allows you to set initial values for the\\nobject\\'s attributes.\\n\\nIn object-oriented programming, classes define blueprints for creating objects. \\nObjects are instances of classes, and they can have attributes (variables) and methods (functions).\\nThe `__init__()` method is used to initialize the attributes of an object so that it starts with a specific state when \\nit is created.\\n\\nHere\\'s an example to illustrate the use of the `__init__()` function:\\n\\n```python\\nclass Person:\\n    def __init__(self, name, age):\\n        self.name = name\\n        self.age = age\\n\\n    def introduce(self):\\n        print(f\"Hi, my name is {self.name} and I am {self.age} years old.\")\\n\\n# Creating instances of the Person class\\nperson1 = Person(\"Alice\", 30)\\nperson2 = Person(\"Bob\", 25)\\n\\n# Calling the introduce() method to introduce the persons\\nperson1.introduce()\\nperson2.introduce()\\n```\\n\\nIn this example, the `Person` class has an `__init__()` method that takes two parameters, \\n`name` and `age`. When you create an instance of the `Person` class (e.g., `person1` and `person2`), the `__init__()` \\nmethod is automatically called with the provided arguments. Inside the `__init__()` method, the `self` keyword refers \\nto the instance being created, and you can use it to set the initial values for its attributes (`name` and `age` in\\nthis case).\\n\\nThe `introduce()` method is also defined in the `Person` class, and it allows each instance\\nto introduce themselves based on their attributes.\\n\\nSo, the `__init__()` function is used to ensure that objects of a class start with the desired initial attributes, \\nsetting up their state correctly when they are created.'"
      ]
     },
     "execution_count": 2,
     "metadata": {},
     "output_type": "execute_result"
    }
   ],
   "source": [
    "\"\"\"The `__init__()` function in Python is a special method (also known as a constructor) that is used to initialize \n",
    "the attributes of an object when it is created from a class. \n",
    "It is automatically called when an instance of the class is created and allows you to set initial values for the\n",
    "object's attributes.\n",
    "\n",
    "In object-oriented programming, classes define blueprints for creating objects. \n",
    "Objects are instances of classes, and they can have attributes (variables) and methods (functions).\n",
    "The `__init__()` method is used to initialize the attributes of an object so that it starts with a specific state when \n",
    "it is created.\n",
    "\n",
    "Here's an example to illustrate the use of the `__init__()` function:\n",
    "\n",
    "```python\n",
    "class Person:\n",
    "    def __init__(self, name, age):\n",
    "        self.name = name\n",
    "        self.age = age\n",
    "\n",
    "    def introduce(self):\n",
    "        print(f\"Hi, my name is {self.name} and I am {self.age} years old.\")\n",
    "\n",
    "# Creating instances of the Person class\n",
    "person1 = Person(\"Alice\", 30)\n",
    "person2 = Person(\"Bob\", 25)\n",
    "\n",
    "# Calling the introduce() method to introduce the persons\n",
    "person1.introduce()\n",
    "person2.introduce()\n",
    "```\n",
    "\n",
    "In this example, the `Person` class has an `__init__()` method that takes two parameters, \n",
    "`name` and `age`. When you create an instance of the `Person` class (e.g., `person1` and `person2`), the `__init__()` \n",
    "method is automatically called with the provided arguments. Inside the `__init__()` method, the `self` keyword refers \n",
    "to the instance being created, and you can use it to set the initial values for its attributes (`name` and `age` in\n",
    "this case).\n",
    "\n",
    "The `introduce()` method is also defined in the `Person` class, and it allows each instance\n",
    "to introduce themselves based on their attributes.\n",
    "\n",
    "So, the `__init__()` function is used to ensure that objects of a class start with the desired initial attributes, \n",
    "setting up their state correctly when they are created.\"\"\""
   ]
  },
  {
   "cell_type": "code",
   "execution_count": 5,
   "id": "050b95ca-cc4c-48bf-941d-ba2dd4888793",
   "metadata": {},
   "outputs": [
    {
     "name": "stdout",
     "output_type": "stream",
     "text": [
      "Buddy is 3 years old.\n",
      "Buddy says Woof!\n"
     ]
    }
   ],
   "source": [
    "\"\"\"In object-oriented programming (OOP), the `self` keyword is used to refer to the instance of the class within\n",
    "which it is used. It is a way to access the attributes and methods of an object from within its own methods.\n",
    "\n",
    "Here's why `self` is used in OOP:\n",
    "\n",
    "1. **Differentiating Instance and Class Variables:**\n",
    "   In a class, you can have both instance variables (attributes that belong to specific instances) and class\n",
    "    variables (attributes that are shared among all instances of the class). By using `self`, you explicitly \n",
    "    indicate that you are referring to an instance attribute, making it clear whether you're modifying an attribute \n",
    "    that's unique to an instance or accessing a shared attribute.\n",
    "\n",
    "2. **Accessing Instance Methods:**\n",
    "   Methods in a class are typically defined to work with the data (attributes) associated with that class's instances. \n",
    "    When you define a method, you include `self` as the first parameter in its signature. This allows the method to \n",
    "    access the instance's attributes and other methods using `self`.\n",
    "\n",
    "3. **Encapsulation:**\n",
    "   The use of `self` helps encapsulate the behavior and data of an object. It ensures that the object's methods\n",
    "    and attributes are tightly coupled, making it easier to manage and maintain the object's internal state.\n",
    "\n",
    "4. **Dynamic Reference:**\n",
    "   Each instance of a class can have its own unique data. The `self` keyword provides a dynamic reference \n",
    "    to the current instance, allowing you to access and manipulate its attributes and methods. This is crucial for \n",
    "    creating flexible and reusable code.\"\"\"\n",
    "\n",
    "#Here's a simple example to illustrate the use of `self`:\n",
    "\n",
    "#```python\n",
    "class Dog:\n",
    "    def __init__(self, name, age):\n",
    "        self.name = name  # instance variable\n",
    "        self.age = age    # instance variable\n",
    "\n",
    "    def bark(self):\n",
    "        print(f\"{self.name} says Woof!\")\n",
    "\n",
    "# Creating an instance of the Dog class\n",
    "dog1 = Dog(\"Buddy\", 3)\n",
    "\n",
    "# Accessing instance variables and calling methods using self\n",
    "print(f\"{dog1.name} is {dog1.age} years old.\")\n",
    "dog1.bark()\n",
    "\n",
    "\n",
    "#In this example, within the `__init__()` method and the `bark()` method, `self` refers to the specific\n",
    "#instance of the `Dog` class that is being manipulated or accessed. This enables the methods to work with the unique \n",
    "#attributes of that instance.\n"
   ]
  },
  {
   "cell_type": "code",
   "execution_count": 9,
   "id": "35985476-56f4-41b5-b186-ddb09b903c65",
   "metadata": {},
   "outputs": [
    {
     "ename": "IndentationError",
     "evalue": "unindent does not match any outer indentation level (<tokenize>, line 16)",
     "output_type": "error",
     "traceback": [
      "\u001b[0;36m  File \u001b[0;32m<tokenize>:16\u001b[0;36m\u001b[0m\n\u001b[0;31m    class Dog(Animal):\u001b[0m\n\u001b[0m    ^\u001b[0m\n\u001b[0;31mIndentationError\u001b[0m\u001b[0;31m:\u001b[0m unindent does not match any outer indentation level\n"
     ]
    }
   ],
   "source": [
    "\"\"\"Inheritance is a fundamental concept in object-oriented programming (OOP) where a \n",
    "new class (subclass or derived class) can inherit properties and behaviors (attributes and methods) from\n",
    "an existing class (superclass or base class). Inheritance allows for code reuse, as it enables the creation of\n",
    "new classes that build upon the characteristics of existing classes.\n",
    "\n",
    "There are different types of inheritance:\"\"\"\n",
    "\n",
    "#1. **Single Inheritance:**\n",
    "  # In single inheritance, a subclass inherits from only one superclass. This is the simplest form of inheritance.\n",
    "\n",
    "   \n",
    "   class Animal:\n",
    "        def speak(self):\n",
    "            pass\n",
    "\n",
    "    class Dog(Animal):\n",
    "        def speak(self):\n",
    "            return \"Woof!\"\n",
    "\n",
    "    class Cat(Animal):\n",
    "        def speak(self):\n",
    "            return \"Meow!\"\n",
    "\n",
    "#Here, both the `Dog` and `Cat` classes inherit the `speak` method from the `Animal` class.\n",
    "\n",
    "\"\"\"2. **Multiple Inheritance:**\n",
    "   In multiple inheritance, a subclass inherits from more than one superclass. \n",
    "    This can lead to complex inheritance hierarchies.\"\"\"\n",
    "\n",
    "   \n",
    "    class Bird:\n",
    "        def fly(self):\n",
    "            pass\n",
    "\n",
    "    class Mammal:\n",
    "        def run(self):\n",
    "            pass\n",
    "\n",
    "    class Bat(Bird, Mammal):\n",
    "        pass\n",
    "   \n",
    " #   The `Bat` class inherits methods from both the `Bird` and `Mammal` classes.\n",
    "\n",
    "# 3. **Multilevel Inheritance:**\n",
    "   \"\"\"In multilevel inheritance, a subclass becomes the superclass for another class. \n",
    "    This creates a chain of inheritance.\"\"\"\n",
    "\n",
    "   \n",
    "   \n",
    "    class Vehicle:\n",
    "        def start_engine(self):\n",
    "            pass\n",
    "\n",
    "    class Car(Vehicle):\n",
    "        def drive(self):\n",
    "            pass\n",
    "\n",
    "    class ElectricCar(Car):\n",
    "        def charge(self):\n",
    "            pass\n",
    "   \n",
    " #   The `ElectricCar` class inherits from the `Car` class, which in turn inherits from the `Vehicle` class.\n",
    "\n",
    "#4. **Hierarchical Inheritance:**\n",
    "#   In hierarchical inheritance, multiple subclasses inherit from a single superclass.\n",
    "\n",
    "   \n",
    "   \n",
    "   class Shape:\n",
    "        def area(self):\n",
    "            pass\n",
    "\n",
    "    class Circle(Shape):\n",
    "        def area(self):\n",
    "            pass\n",
    "\n",
    "    class Rectangle(Shape):\n",
    "        def area(self):\n",
    "            pass\n",
    "   \n",
    " #   Both the `Circle` and `Rectangle` classes inherit the `area` method from the `Shape` class.\n",
    "\n",
    "\"\"\"5. **Hybrid (Mixins) Inheritance:**\n",
    "   Hybrid inheritance involves a combination of different inheritance types, often utilizing multiple inheritance \n",
    "    along with other techniques like composition.\"\"\"\n",
    "\n",
    "\n",
    "   class DatabaseMixin:\n",
    "        def save_to_database(self):\n",
    "            pass\n",
    "\n",
    "    class JSONSerializerMixin:\n",
    "        def to_json(self):\n",
    "            pass\n",
    "\n",
    "    class Person(DatabaseMixin, JSONSerializerMixin):\n",
    "        pass\n",
    "   \n",
    "  # The `Person` class inherits methods from both `DatabaseMixin` and `JSONSerializerMixin`.\n",
    "\n",
    "#It's important to note that while inheritance can provide code reuse and organization benefits, \n",
    "#improper use of complex inheritance hierarchies can lead to maintenance challenges and code readability issues."
   ]
  },
  {
   "cell_type": "code",
   "execution_count": null,
   "id": "4356b316-91ff-4867-b974-a5628f3a91af",
   "metadata": {},
   "outputs": [],
   "source": []
  }
 ],
 "metadata": {
  "kernelspec": {
   "display_name": "Python 3 (ipykernel)",
   "language": "python",
   "name": "python3"
  },
  "language_info": {
   "codemirror_mode": {
    "name": "ipython",
    "version": 3
   },
   "file_extension": ".py",
   "mimetype": "text/x-python",
   "name": "python",
   "nbconvert_exporter": "python",
   "pygments_lexer": "ipython3",
   "version": "3.10.8"
  }
 },
 "nbformat": 4,
 "nbformat_minor": 5
}
